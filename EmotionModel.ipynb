{
  "nbformat": 4,
  "nbformat_minor": 0,
  "metadata": {
    "colab": {
      "provenance": []
    },
    "kernelspec": {
      "name": "python3",
      "display_name": "Python 3"
    },
    "language_info": {
      "name": "python"
    }
  },
  "cells": [
    {
      "cell_type": "code",
      "execution_count": null,
      "metadata": {
        "id": "n2boce7VaUNu"
      },
      "outputs": [],
      "source": [
        "!unzip HappyImages.zip"
      ]
    },
    {
      "cell_type": "code",
      "source": [
        "!unzip SurprisedImages.zip"
      ],
      "metadata": {
        "id": "01JIP1aQdD1T"
      },
      "execution_count": null,
      "outputs": []
    },
    {
      "cell_type": "code",
      "source": [
        "import cv2\n",
        "import numpy as np\n",
        "from matplotlib import pyplot as plt\n",
        "import tensorflow as tf\n",
        "import random\n",
        "from sklearn.model_selection import train_test_split"
      ],
      "metadata": {
        "id": "E5WVAKaKdKNs"
      },
      "execution_count": null,
      "outputs": []
    },
    {
      "cell_type": "code",
      "source": [
        "surprisedImages = []\n",
        "for i in range(150):\n",
        "  im = cv2.imread(f'SurprisedImages/IMAGE_{i}.png', cv2.IMREAD_GRAYSCALE)\n",
        "  im = cv2.resize(im, dsize=(100, 100))\n",
        "  if not (im[0][0] == 0 and im[0][1] == 0):\n",
        "    surprisedImages.append((im, 1))"
      ],
      "metadata": {
        "id": "OHbEKHyadLv2"
      },
      "execution_count": null,
      "outputs": []
    },
    {
      "cell_type": "code",
      "source": [
        "happyImages = []\n",
        "for i in range(150):\n",
        "  im = cv2.imread(f'HappyImages/IMAGE_{i}.png', cv2.IMREAD_GRAYSCALE)\n",
        "  im = cv2.resize(im, dsize=(100, 100))\n",
        "  if not (im[0][0] == 0 and im[0][1] == 0):\n",
        "    happyImages.append((im, 0))"
      ],
      "metadata": {
        "id": "rgPgcwjSeZvc"
      },
      "execution_count": null,
      "outputs": []
    },
    {
      "cell_type": "code",
      "source": [
        "totalImages = happyImages + surprisedImages"
      ],
      "metadata": {
        "id": "fFw9Bi9jeoAn"
      },
      "execution_count": null,
      "outputs": []
    },
    {
      "cell_type": "code",
      "source": [
        "random.shuffle(totalImages)"
      ],
      "metadata": {
        "id": "tjgV85b1fCxF"
      },
      "execution_count": null,
      "outputs": []
    },
    {
      "cell_type": "code",
      "source": [
        "len(totalImages)"
      ],
      "metadata": {
        "colab": {
          "base_uri": "https://localhost:8080/"
        },
        "id": "rhznD3Rxi0Gg",
        "outputId": "41f7c1ea-b985-4c21-84b7-2fd19c470e8d"
      },
      "execution_count": null,
      "outputs": [
        {
          "output_type": "execute_result",
          "data": {
            "text/plain": [
              "447"
            ]
          },
          "metadata": {},
          "execution_count": 12
        }
      ]
    },
    {
      "cell_type": "code",
      "source": [
        "X = [x[0] for x in totalImages]\n",
        "X = np.array(X)\n",
        "X = np.reshape(X, (len(totalImages), 100, 100, 1))\n",
        "Y = [x[1] for x in totalImages]\n",
        "Y = np.array(Y)\n",
        "xtrain, xtest, ytrain, ytest = train_test_split(X, Y, test_size=0.2)"
      ],
      "metadata": {
        "id": "BwJwZMiffUNO"
      },
      "execution_count": null,
      "outputs": []
    },
    {
      "cell_type": "code",
      "source": [
        "x1 = tf.keras.layers.Input((100, 100, 1))\n",
        "x2 = tf.keras.layers.Conv2D(64, (3, 3), activation = 'relu')(x1)\n",
        "x3 = tf.keras.layers.MaxPooling2D((2, 2))(x2)\n",
        "x4 = tf.keras.layers.Conv2D(32, (3, 3), activation = 'relu')(x3)\n",
        "x5 = tf.keras.layers.MaxPooling2D((2, 2))(x4)\n",
        "x6 = tf.keras.layers.Conv2D(16, (3, 3), activation = 'relu')(x5)\n",
        "x7 = tf.keras.layers.MaxPooling2D((2, 2))(x6)\n",
        "f = tf.keras.layers.Flatten()(x7)\n",
        "d1 = tf.keras.layers.Dense(32, activation = 'relu')(f)\n",
        "d2 = tf.keras.layers.Dense(16, activation = 'relu')(d1)\n",
        "d3 = tf.keras.layers.Dense(1, activation = 'sigmoid')(d2)\n",
        "model = tf.keras.models.Model(inputs=x1, outputs=d3)"
      ],
      "metadata": {
        "id": "dWovdVp2hvtJ"
      },
      "execution_count": null,
      "outputs": []
    },
    {
      "cell_type": "code",
      "source": [
        "model.summary()\n",
        "model.compile(loss='binary_crossentropy',\n",
        "              optimizer = 'adam',\n",
        "              metrics = ['accuracy'])"
      ],
      "metadata": {
        "id": "Q15McvQ7jHxt",
        "colab": {
          "base_uri": "https://localhost:8080/"
        },
        "outputId": "6ed233f4-0119-43c9-bce2-b6d802d2b700"
      },
      "execution_count": null,
      "outputs": [
        {
          "output_type": "stream",
          "name": "stdout",
          "text": [
            "Model: \"model\"\n",
            "_________________________________________________________________\n",
            " Layer (type)                Output Shape              Param #   \n",
            "=================================================================\n",
            " input_1 (InputLayer)        [(None, 100, 100, 1)]     0         \n",
            "                                                                 \n",
            " conv2d (Conv2D)             (None, 98, 98, 64)        640       \n",
            "                                                                 \n",
            " max_pooling2d (MaxPooling2  (None, 49, 49, 64)        0         \n",
            " D)                                                              \n",
            "                                                                 \n",
            " conv2d_1 (Conv2D)           (None, 47, 47, 32)        18464     \n",
            "                                                                 \n",
            " max_pooling2d_1 (MaxPoolin  (None, 23, 23, 32)        0         \n",
            " g2D)                                                            \n",
            "                                                                 \n",
            " conv2d_2 (Conv2D)           (None, 21, 21, 16)        4624      \n",
            "                                                                 \n",
            " max_pooling2d_2 (MaxPoolin  (None, 10, 10, 16)        0         \n",
            " g2D)                                                            \n",
            "                                                                 \n",
            " flatten (Flatten)           (None, 1600)              0         \n",
            "                                                                 \n",
            " dense (Dense)               (None, 32)                51232     \n",
            "                                                                 \n",
            " dense_1 (Dense)             (None, 16)                528       \n",
            "                                                                 \n",
            " dense_2 (Dense)             (None, 1)                 17        \n",
            "                                                                 \n",
            "=================================================================\n",
            "Total params: 75505 (294.94 KB)\n",
            "Trainable params: 75505 (294.94 KB)\n",
            "Non-trainable params: 0 (0.00 Byte)\n",
            "_________________________________________________________________\n"
          ]
        }
      ]
    },
    {
      "cell_type": "code",
      "source": [
        "model.fit(xtrain, ytrain, batch_size = 10, epochs = 100)"
      ],
      "metadata": {
        "id": "GyQZTeog9KIL"
      },
      "execution_count": null,
      "outputs": []
    },
    {
      "cell_type": "code",
      "source": [
        "totalCorrect = 0\n",
        "predictions = model.predict(xtest)\n",
        "for i in range(len(predictions)):\n",
        "  binary = np.round_(predictions[i])\n",
        "  if binary == ytest[i]:\n",
        "    totalCorrect += 1\n",
        "print(totalCorrect / len(ytest))"
      ],
      "metadata": {
        "id": "FKC-MYYdjJJV"
      },
      "execution_count": null,
      "outputs": []
    },
    {
      "cell_type": "code",
      "source": [
        "from google.colab import drive\n",
        "\n",
        "drive.mount('/content/drive')\n",
        "model_path = \"/content/drive/My Drive/EmotionModel.h5\"\n",
        "model.save(model_path)"
      ],
      "metadata": {
        "colab": {
          "base_uri": "https://localhost:8080/"
        },
        "id": "I5D9mzdNlz9K",
        "outputId": "93347ad8-6516-460d-f72a-607f507b7b81"
      },
      "execution_count": null,
      "outputs": [
        {
          "output_type": "stream",
          "name": "stdout",
          "text": [
            "Drive already mounted at /content/drive; to attempt to forcibly remount, call drive.mount(\"/content/drive\", force_remount=True).\n"
          ]
        }
      ]
    }
  ]
}